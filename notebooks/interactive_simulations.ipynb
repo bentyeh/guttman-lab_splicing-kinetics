{
 "cells": [
  {
   "cell_type": "code",
   "execution_count": null,
   "id": "560f7dcc-1b3d-47c3-8cfa-faa0c0a6cf12",
   "metadata": {},
   "outputs": [],
   "source": [
    "%load_ext autoreload\n",
    "%autoreload 2\n",
    "%matplotlib ipympl"
   ]
  },
  {
   "cell_type": "code",
   "execution_count": null,
   "id": "cd35760b-56e8-4aff-8f0f-129e22911155",
   "metadata": {},
   "outputs": [],
   "source": [
    "import os\n",
    "import sys\n",
    "import time\n",
    "import numpy as np\n",
    "import pandas as pd\n",
    "import matplotlib.pyplot as plt\n",
    "import seaborn as sns\n",
    "import skopt\n",
    "import skopt.plots\n",
    "import scipy.optimize\n",
    "import ipywidgets\n",
    "from tqdm.auto import tqdm"
   ]
  },
  {
   "cell_type": "code",
   "execution_count": null,
   "id": "27ddfb7c-a13d-4f29-a2c9-08a4a9115877",
   "metadata": {},
   "outputs": [],
   "source": [
    "dir_project = os.path.abspath('..')\n",
    "dir_modules = os.path.join(dir_project, 'modules')\n",
    "dir_scripts = os.path.join(dir_project, 'scripts')\n",
    "dir_data = os.path.join(dir_project, 'data')\n",
    "dir_data_aux = os.path.join(dir_project, 'data_aux')"
   ]
  },
  {
   "cell_type": "code",
   "execution_count": null,
   "id": "a2336e03-1cdb-4af0-a797-72a568d811fc",
   "metadata": {},
   "outputs": [],
   "source": [
    "sys.path.append(dir_modules)\n",
    "import simulate\n",
    "import stats_transcripts\n",
    "import fitting\n",
    "import utils_genomics"
   ]
  },
  {
   "cell_type": "code",
   "execution_count": null,
   "id": "2a5c3aee-45f7-4e8f-885c-8a5a83e4c739",
   "metadata": {},
   "outputs": [],
   "source": [
    "gene_length = 3640\n",
    "pos_intron = np.array(\n",
    "    [[ 828, 1135, 1669, 2363, 2579],\n",
    "     [ 952, 1229, 2122, 2449, 3537]])\n",
    "pos_exon = utils_genomics.pos_intron_to_pos_exon(pos_intron, gene_length)\n",
    "time_points = np.array([0, 10, 15, 20, 25, 30, 45, 60, 75, 90, 120, 240]) * 60 + 600"
   ]
  },
  {
   "cell_type": "code",
   "execution_count": null,
   "id": "5a9d7f20-8a29-404b-a21c-64f3e1d370ae",
   "metadata": {},
   "outputs": [],
   "source": [
    "param_names = ['k_init', 'k_decay', 'k_splice', 'k_elong']\n",
    "n_introns = pos_intron.shape[1]\n",
    "n_time_steps = time_points[-1]\n",
    "time_steps = np.arange(1, n_time_steps + 1)\n",
    "cols_introns = [f'intron{i}' for i in range(n_introns)]"
   ]
  },
  {
   "cell_type": "markdown",
   "id": "4d57af0f-d044-43c0-9b0b-ade65153c3c1",
   "metadata": {},
   "source": [
    "# Interactively Plot Saved Simulations"
   ]
  },
  {
   "cell_type": "code",
   "execution_count": null,
   "id": "3d861e36-e33c-4f7a-8ce4-6ddb710ae643",
   "metadata": {},
   "outputs": [],
   "source": [
    "params_all = np.load(os.path.join(dir_data_aux, 'sim', 'params.npy'))\n",
    "params_to_index = {tuple(params_all[i]): i for i in range(len(params_all))}"
   ]
  },
  {
   "cell_type": "markdown",
   "id": "940db2d2-42b6-4c48-bab2-84acc1b574cd",
   "metadata": {},
   "source": [
    "## Using `ipywidgets` performantly"
   ]
  },
  {
   "cell_type": "code",
   "execution_count": null,
   "id": "e5c7783f-9378-4b3f-983f-6c135b91631e",
   "metadata": {},
   "outputs": [],
   "source": [
    "data = np.load(os.path.join(dir_data_aux, 'sim', 'junction_counts-0.npy'))\n",
    "n_introns = data.shape[1] - 1\n",
    "with plt.ioff():\n",
    "    fig_interactive, axs_interactive = plt.subplots(1, 3, constrained_layout=True, sharex=True, figsize=(12, 4))\n",
    "lines_exons, lines_introns, lines_spliced = [], [], []\n",
    "for i in range(n_introns):\n",
    "    lines_exons.extend(axs_interactive[0].plot(time_steps, data[:, i, 0], label=f'exon_{i}'))\n",
    "    lines_introns.extend(axs_interactive[1].plot(time_steps, data[:, i, 1], label=f'intron_{i}'))\n",
    "    lines_spliced.extend(axs_interactive[2].plot(time_steps, data[:, i, 2], label=f'spliced_{i}'))\n",
    "lines_exons.extend(axs_interactive[0].plot(time_steps, data[:, i+1, 0], label=f'exon_{i+1}'))\n",
    "for i in range(3):\n",
    "    axs_interactive[i].legend()\n",
    "    axs_interactive[i].set(xlabel='time (s)', ylabel='count')\n",
    "fig_interactive.canvas.toolbar_position = 'top'\n",
    "fig_interactive.show()\n",
    "\n",
    "@ipywidgets.interact(\n",
    "    **{param_name: ipywidgets.SelectionSlider(options=np.unique(params_all[:, i]))\n",
    "       for i, param_name in enumerate(param_names)},\n",
    "    autoscale_x=True,\n",
    "    autoscale_y=True)\n",
    "def update_data(k_init, k_decay, k_splice, k_elong, autoscale_x=True, autoscale_y=True):\n",
    "    index = params_to_index[(k_init, k_decay, k_splice, k_elong)]\n",
    "    data = np.load(os.path.join(dir_data_aux, 'sim', f'junction_counts-{index}.npy'))\n",
    "    n_introns = data.shape[1] - 1\n",
    "    for i in range(n_introns):\n",
    "        lines_exons[i].set_data((time_steps, data[:, i, 0]))\n",
    "        lines_introns[i].set_data((time_steps, data[:, i, 1]))\n",
    "        lines_spliced[i].set_data((time_steps, data[:, i, 2]))\n",
    "    lines_exons[i+1].set_data((time_steps, data[:, i+1, 0]))\n",
    "    [ax.relim() for ax in fig_interactive.axes]\n",
    "    if autoscale_x:\n",
    "        # [ax.autoscale_view() for ax in fig.axes]\n",
    "        [ax.autoscale(axis='x') for ax in fig_interactive.axes]\n",
    "    if autoscale_y:\n",
    "        [ax.autoscale(axis='y') for ax in fig_interactive.axes]\n",
    "    fig_interactive.canvas.draw_idle()"
   ]
  },
  {
   "cell_type": "markdown",
   "id": "cde78290-5330-4991-bf42-561a47211c72",
   "metadata": {
    "jp-MarkdownHeadingCollapsed": true,
    "tags": []
   },
   "source": [
    "## (Slow) Using `ipywidgets.interact`"
   ]
  },
  {
   "cell_type": "code",
   "execution_count": null,
   "id": "d2865f21-f456-4fca-9bd8-f5be387e2dea",
   "metadata": {},
   "outputs": [],
   "source": [
    "figs = []"
   ]
  },
  {
   "cell_type": "code",
   "execution_count": null,
   "id": "3d3e6f54-470c-4249-92d9-6ac48c801838",
   "metadata": {},
   "outputs": [],
   "source": [
    "def f(k_init, k_decay, k_splice, k_elong):\n",
    "    index = params_to_index[(k_init, k_decay, k_splice, k_elong)]\n",
    "    data = np.load(os.path.join(dir_data_aux, 'sim', f'junction_counts-{index}.npy'))\n",
    "    n_introns = data.shape[1] - 1\n",
    "    (plt.close(fig) for fig in figs)\n",
    "    with plt.ioff():\n",
    "        fig, axs = plt.subplots(1, 3, constrained_layout=True, sharex=True, figsize=(12, 4))\n",
    "    for i in range(n_introns):\n",
    "        line = axs[0].plot(time_steps, data[:, i, 0], label=f'exon_{i}')\n",
    "        axs[1].plot(time_steps, data[:, i, 1], label=f'intron_{i}')\n",
    "        axs[2].plot(time_steps, data[:, i, 2], label=f'spliced_{i}')\n",
    "    axs[0].plot(time_steps, data[:, i+1, 0], label=f'exon_{i+1}')\n",
    "    for i in range(3):\n",
    "        axs[i].legend()\n",
    "        axs[i].set(xlabel='time (s)', ylabel='count')\n",
    "    fig.canvas.toolbar_position = 'top'\n",
    "    fig.show()\n",
    "    figs.append(figs)\n",
    "    return line\n",
    "\n",
    "w = ipywidgets.interact(\n",
    "    f,\n",
    "    **{param_name: ipywidgets.SelectionSlider(options=np.unique(params_all[:, i])) for i, param_name in enumerate(param_names)})"
   ]
  },
  {
   "cell_type": "markdown",
   "id": "348e0468-ee88-494b-af02-749337e85887",
   "metadata": {},
   "source": [
    "# Specific Simulations"
   ]
  },
  {
   "cell_type": "markdown",
   "id": "29ae1ced-b4dc-4e10-bafb-177a6125590a",
   "metadata": {},
   "source": [
    "## Effect of `k_elong` on timing of peak"
   ]
  },
  {
   "cell_type": "code",
   "execution_count": null,
   "id": "3666007d-2ffc-4fda-81bc-15324d105e8b",
   "metadata": {},
   "outputs": [],
   "source": [
    "params = [1, 0.003, 0.005, 50]\n",
    "print('Time (s) to finish transcription:', gene_length / params[3])\n",
    "print('Response time (s) to steady-state exon concentration:', round(np.log(2) / params[1], 2))"
   ]
  },
  {
   "cell_type": "code",
   "execution_count": null,
   "id": "45a44923-fca0-43cc-9d09-b0f6f2741618",
   "metadata": {
    "tags": []
   },
   "outputs": [],
   "source": [
    "fig, axs = plt.subplots(2, 3, constrained_layout=True, figsize=(15, 10), sharex=True, sharey=False)\n",
    "for k_elong in np.logspace(-1, 2, 5):\n",
    "    params[3] = k_elong\n",
    "    time_points, result = simulate.parallel_simulations(\n",
    "        100,\n",
    "        params, pos_intron, gene_length, 1200, t_wash=600,\n",
    "        stats_fun=stats_transcripts.junction_counts,\n",
    "        stats_kwargs=dict(pos_exon=pos_exon),\n",
    "        log10=False,\n",
    "        aggfun=simulate.mean,\n",
    "        alt_splicing=False,\n",
    "        verbose=False)\n",
    "    for i in range(3):\n",
    "        axs[0, i].plot(time_points, result[:, 0, i], label=f'k_elong = {k_elong:.2f}')\n",
    "        axs[1, i].plot(time_points, result[:, 0, i] / result[:, 0, i].max(), label=f'k_elong = {k_elong:.2f}')\n",
    "for i in range(3):\n",
    "    axs[0, i].legend()\n",
    "    axs[0, i].set(title=('Exon 1', 'Intron 1', 'Spliced 1')[i], ylabel='counts')\n",
    "    axs[1, i].set(xlabel='time (s)', ylabel='counts / max counts')"
   ]
  }
 ],
 "metadata": {
  "kernelspec": {
   "display_name": "py3",
   "language": "python",
   "name": "py3"
  },
  "language_info": {
   "codemirror_mode": {
    "name": "ipython",
    "version": 3
   },
   "file_extension": ".py",
   "mimetype": "text/x-python",
   "name": "python",
   "nbconvert_exporter": "python",
   "pygments_lexer": "ipython3",
   "version": "3.10.6"
  }
 },
 "nbformat": 4,
 "nbformat_minor": 5
}
